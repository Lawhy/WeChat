{
 "cells": [
  {
   "cell_type": "markdown",
   "metadata": {},
   "source": [
    "# WeChat\n",
    "\n",
    "### 微信自动回复小程序Demo"
   ]
  },
  {
   "cell_type": "code",
   "execution_count": 1,
   "metadata": {},
   "outputs": [
    {
     "name": "stdout",
     "output_type": "stream",
     "text": [
      "█\r"
     ]
    }
   ],
   "source": [
    "#coding=utf8\n",
    "import itchat\n",
    "from itchat.content import TEXT\n",
    "from itchat.content import *\n",
    "import sys\n",
    "import time\n",
    "import re\n",
    "import requests, json\n",
    "import aiml\n",
    "import os\n",
    "import re"
   ]
  },
  {
   "cell_type": "code",
   "execution_count": 2,
   "metadata": {},
   "outputs": [],
   "source": [
    "def get_room_ID(room_name):\n",
    "    global myUserName\n",
    "    chat_rooms = itchat.get_chatrooms()\n",
    "    for room in chat_rooms:\n",
    "        if room['NickName'] == room_name:\n",
    "            print('Found the desired chat room: ', room['NickName'])\n",
    "            return room['UserName']\n",
    "    return None"
   ]
  },
  {
   "cell_type": "code",
   "execution_count": 3,
   "metadata": {},
   "outputs": [],
   "source": [
    "def check_auto_sign_up_mode(from_user, to_user, content):\n",
    "    global myUserName, commands, group_reply\n",
    "    # 在自己的对话框里开启关闭自动报名功能\n",
    "    if from_user == myUserName and to_user == myUserName:\n",
    "        mode = ''\n",
    "        for k in commands.keys():\n",
    "            if commands[k] == content:\n",
    "                mode = str(k)\n",
    "                break\n",
    "        # 如果某个模式被激活, 机器人模式只能在非离线模式打开\n",
    "        if mode == 'auto_sign_up_mode_on':\n",
    "            print('自动报名模式启动...')\n",
    "            itchat.send_msg(u\"[自动报名]已经打开。\\n\", 'filehelper')\n",
    "            group_reply = True\n",
    "        elif mode == 'auto_sign_up_mode_off':\n",
    "            print('自动报名模式关闭...')\n",
    "            itchat.send_msg(u\"[自动报名]已经关闭。\\n\", 'filehelper')\n",
    "            group_reply = False\n",
    "    \n",
    "def check_robot_mode(from_user, to_user, content):\n",
    "    global myUserName, peer_list, commands, robot_reply\n",
    "    # 机器人模式\n",
    "    if content == commands[\"robot_mode_add\"] and from_user == myUserName:\n",
    "        print('机器人模式添加，对象为用户: ' + str(to_user))\n",
    "        itchat.send_msg('机器人模式添加，对象为用户: ' + str(to_user), 'filehelper')\n",
    "        peer_list.append(to_user)\n",
    "        robot_reply = True\n",
    "    elif content == commands[\"robot_mode_remove\"] and from_user == myUserName:\n",
    "        print('机器人模式移除，对象为用户: ' + str(to_user))\n",
    "        itchat.send_msg('机器人模式移除，对象为用户: ' + str(to_user), 'filehelper')\n",
    "        peer_list.remove(to_user)\n",
    "    elif content == commands['robot_mode_off'] and from_user == myUserName:\n",
    "        itchat.send_msg('机器人模式全关闭')\n",
    "        peer_list = []\n",
    "        robot_reply = False"
   ]
  },
  {
   "cell_type": "code",
   "execution_count": 4,
   "metadata": {},
   "outputs": [],
   "source": [
    "def turing_reply(from_user, content):\n",
    "    global peer_list, robot_reply\n",
    "    if robot_reply and from_user in peer_list:\n",
    "        # Sleep 1 second is not necessary. Just cheat human.  \n",
    "        time.sleep(2)\n",
    "           \n",
    "        cont = requests.get('http://www.tuling123.com/openapi/api?key=18747f51219b4c6e82ad780a624b4883&info=%s' % content).content\n",
    "        m = json.loads(cont)\n",
    "        itchat.send(m['text'], from_user)\n",
    "        if m['code'] == 200000:\n",
    "            itchat.send(m['url'], from_user)\n",
    "        if m['code'] == 302000:\n",
    "            itchat.send(m['list'], from_user)\n",
    "        if m['code'] == 308000:\n",
    "            itchat.send(m['list'], from_user)\n",
    "        \n",
    "def auto_sign_up(from_user, content, asset_nick_name, asset_ID):\n",
    "    global room_ID, room_name, myUserName, group_reply\n",
    "    \n",
    "    # special boolean for testing use\n",
    "    special_entry = False\n",
    "    \n",
    "    if not room_ID:\n",
    "        print('Fail to retrieve the room ID!')\n",
    "        return\n",
    "    \n",
    "    if group_reply and from_user == room_ID:\n",
    "        # 如果消息来自指定群聊\n",
    "        print(\"[\" + room_name + \", \" + asset_nick_name + \"]: \" + str(content))\n",
    "        itchat.send_msg(\"[\" + room_name + \", \" + asset_nick_name + \"]: \" + str(content), 'filehelper')\n",
    "        # 自动回复指定人物信息\n",
    "        if asset_nick_name == '大黄油' or asset_nick_name == 'LEO':\n",
    "            print(\"[ECBC]: Asset is on the move!\")\n",
    "            if not replace_msg(content) == content:\n",
    "                # 这样了话日常话语不会被包进去\n",
    "                itchat.send_msg(replace_msg(content), room_ID)\n",
    "                print(\"[ECBC]: 报名成功!\")\n",
    "                itchat.send_msg(\"[ECBC]: 报名成功!\", 'filehelper')\n",
    "                group_reply = False\n",
    "            else:\n",
    "                print('[ECBC]: Asset的日常话语...')\n",
    "        # backup plan, 万一大黄油的消息被错过\n",
    "        elif (u'报名表' in content) and (u'周' in content) and (not u'Lawrence' in content):\n",
    "            print(u\"[ECBC]:报名表出来了！速度抢报名啦！\")\n",
    "            itchat.send_msg(u\"[ECBC]:报名表出来了！速度抢报名啦！\", 'filehelper')\n",
    "            # plab B execution\n",
    "            itchat.send_msg(replace_msg(content), room_ID)\n",
    "            itchat.send_msg(\"[ECBC]: 报名成功!\", 'filehelper')\n",
    "            group_reply = False\n",
    "    \n",
    "    # Demo listener\n",
    "    if group_reply and (from_user == demo_ID or asset_ID == myUserName):\n",
    "        print(\"[Demo, \" + asset_nick_name + \"]: \" + str(content))\n",
    "        if asset_nick_name == '小小小小小' or special_entry:\n",
    "            print(\"[Demo]: Asset is on the move!\")\n",
    "            if not replace_msg(content) == content:\n",
    "                # 这样了话日常话语不会被包进去\n",
    "                itchat.send_msg(replace_msg(content), demo_ID)\n",
    "                print('[Demo]: 报名成功!')\n",
    "                itchat.send_msg(\"[Demo]: 报名成功!\", 'filehelper')\n",
    "                group_reply = False\n",
    "            else:\n",
    "                print('[Demo]: Asset的日常话语...')\n",
    "        # backup plan, 万一大黄油的消息被错过\n",
    "        elif u'报名表' in content and u'周' in content and u'Lawrence' not in content:\n",
    "            print(u\"[Demo]:报名表出来了！速度抢报名啦！\")\n",
    "            itchat.send_msg(u\"[Demo]:报名表出来了！速度抢报名啦！\", 'filehelper')\n",
    "            # plab B execution\n",
    "            itchat.send_msg(replace_msg(content), demo_ID)\n",
    "            print('[Demo]: 报名成功!')\n",
    "            group_reply = False\n",
    "            \n",
    "\n",
    "def replace_msg(content):\n",
    "    pa = re.compile(r'周[三六].+?training Session 报名表[\\s\\S]+?Waiting list:')\n",
    "    sessions = re.findall(pa, content)\n",
    "    for before in sessions:\n",
    "        after = before.replace('3.', '3. Lawrence ')\n",
    "        content = content.replace(before, after)\n",
    "    return content"
   ]
  },
  {
   "cell_type": "code",
   "execution_count": 5,
   "metadata": {},
   "outputs": [],
   "source": [
    "# When recieve the following msg types, trigger the auto replying.\n",
    "@itchat.msg_register([TEXT, PICTURE, FRIENDS, CARD, MAP, SHARING, RECORDING, ATTACHMENT, VIDEO], isGroupChat=True, isFriendChat=True, isMpChat=True)\n",
    "def text_reply(msg):\n",
    "    global robot_reply, group_reply, asset_nick_name, asset_ID\n",
    "    \n",
    "    if 'ActualNickName' in msg.keys() and 'ActualUserName' in msg.keys():\n",
    "        asset_nick_name = msg['ActualNickName']\n",
    "        asset_ID = msg['ActualUserName']\n",
    "        print('A group message from actual user: ' + asset_nick_name + ' with ID: ' + asset_ID )\n",
    "    \n",
    "    # 检查是否自动回复\n",
    "    check_auto_sign_up_mode(msg['FromUserName'], msg['ToUserName'], msg['Content'])\n",
    "    check_robot_mode(msg['FromUserName'], msg['ToUserName'], msg['Content'])\n",
    "    \n",
    "    # Let Turing reply the msg.\n",
    "    turing_reply(msg['FromUserName'], msg['Content'])\n",
    "    auto_sign_up(msg['FromUserName'], msg['Content'],  asset_nick_name, asset_ID)\n",
    "    \n",
    "    return"
   ]
  },
  {
   "cell_type": "code",
   "execution_count": null,
   "metadata": {},
   "outputs": [
    {
     "name": "stderr",
     "output_type": "stream",
     "text": [
      "Getting uuid of QR code.\n",
      "Downloading QR code.\n",
      "Please scan the QR code to log in.\n",
      "Please press confirm on your phone.\n",
      "Loading the contact, this may take a little while.\n",
      "Login successfully as Lawrencé\n",
      "Start auto replying.\n"
     ]
    },
    {
     "name": "stdout",
     "output_type": "stream",
     "text": [
      "[MyUserID]: @f01c0134fa7041690b5a5301482cbd59cad44f75455f4e23b664bd24517083ad\n",
      "Found the desired chat room:  ECBC open session\n",
      "Found the desired chat room:  Demo\n",
      "[Room ID]: @@b420e28d9b580d46f7e82947a8d5bbcd949b63be542ed58d6feb973a84fcfec6\n",
      "[Demo ID]: @@d2e6c32a63b2cfd15b1edd477870c10028fcafb9c48379890d8da95c3a5eca76\n",
      "自动报名模式启动...\n"
     ]
    }
   ],
   "source": [
    "if __name__ == '__main__':\n",
    "    # Set the hot login\n",
    "    itchat.auto_login(hotReload=True)\n",
    "    # Get your own UserName\n",
    "    myUserName = itchat.get_friends(update=True)[0][\"UserName\"]\n",
    "    print('[MyUserID]: ' + myUserName)\n",
    "\n",
    "    # Set the default variables\n",
    "    robot_reply = False\n",
    "    group_reply = False\n",
    "    peer_list = []\n",
    "    room_name = 'ECBC open session'\n",
    "    room_ID = get_room_ID(room_name)\n",
    "    demo_ID = get_room_ID('Demo')\n",
    "    print('[Room ID]: ' + room_ID)\n",
    "    print('[Demo ID]: ' + demo_ID)\n",
    "    asset_nick_name = ''\n",
    "    asset_ID = ''\n",
    "    commands = {\n",
    "        \"robot_mode_add\": u'巴啦啦小魔仙 变身机器人',\n",
    "        \"robot_mode_remove\": u'巴啦啦小魔仙 变回本人',\n",
    "        \"robot_mode_off\": u'巴啦啦小魔仙 全部关掉',\n",
    "        'auto_sign_up_mode_on': '启动自动报名',\n",
    "        'auto_sign_up_mode_off': '解除自动报名'\n",
    "    }\n",
    "    itchat.run()"
   ]
  },
  {
   "cell_type": "code",
   "execution_count": null,
   "metadata": {},
   "outputs": [],
   "source": [
    "    # room_name = 'ECBC open session'\n",
    "    # room_ID = get_room_ID(room_name)\n",
    "    # for member in itchat.update_chatroom(room_ID)['MemberList']:\n",
    "    #     if member['NickName'] == '大黄油':\n",
    "    #         print(member)"
   ]
  }
 ],
 "metadata": {
  "jupytext": {
   "formats": "ipynb,py:light"
  },
  "kernelspec": {
   "display_name": "Python 3",
   "language": "python",
   "name": "python3"
  },
  "language_info": {
   "codemirror_mode": {
    "name": "ipython",
    "version": 3
   },
   "file_extension": ".py",
   "mimetype": "text/x-python",
   "name": "python",
   "nbconvert_exporter": "python",
   "pygments_lexer": "ipython3",
   "version": "3.7.3"
  }
 },
 "nbformat": 4,
 "nbformat_minor": 2
}
